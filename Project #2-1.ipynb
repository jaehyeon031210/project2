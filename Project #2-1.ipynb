{
 "cells": [
  {
   "cell_type": "code",
   "execution_count": 1,
   "id": "e7949cd2",
   "metadata": {},
   "outputs": [],
   "source": [
    "import pandas as pd"
   ]
  },
  {
   "cell_type": "code",
   "execution_count": 2,
   "id": "b02013ef",
   "metadata": {},
   "outputs": [
    {
     "name": "stdout",
     "output_type": "stream",
     "text": [
      "     batter_name  p_year      H    avg    HR    OBP\n",
      "330          서건창    2015  201.0  0.370   7.0  0.438\n",
      "1409         손아섭    2015  175.0  0.362  18.0  0.456\n",
      "1369         민병헌    2015  162.0  0.345  12.0  0.395\n",
      "750          박용택    2015  159.0  0.343   9.0  0.430\n",
      "857          나성범    2015  157.0  0.329  30.0  0.400\n",
      "...          ...     ...    ...    ...   ...    ...\n",
      "1699         박건우    2018  177.0  0.366  20.0  0.424\n",
      "25           김선빈    2018  176.0  0.370   5.0  0.420\n",
      "1412         손아섭    2018  193.0  0.335  20.0  0.420\n",
      "860          나성범    2018  173.0  0.347  24.0  0.415\n",
      "1684         김태균    2018  121.0  0.340  17.0  0.413\n",
      "\n",
      "[160 rows x 6 columns]\n"
     ]
    }
   ],
   "source": [
    "df = pd.read_csv('2019_kbo_for_kaggle_v2.csv')\n",
    "df_selected = df[['batter_name', 'p_year', 'H', 'avg', 'HR', 'OBP']]\n",
    "df_selected = df_selected[(df_selected['p_year'] >= 2015) & (df_selected['p_year'] <= 2018)]\n",
    "result = pd.DataFrame()\n",
    "for year in range(2015, 2019):\n",
    "    for data in ['H', 'avg', 'HR', 'OBP']:\n",
    "        top = df_selected[df_selected['p_year'] == year].nlargest(10, data)\n",
    "        result = pd.concat([result, top])\n",
    "print(result)"
   ]
  },
  {
   "cell_type": "code",
   "execution_count": 3,
   "id": "710bc031",
   "metadata": {},
   "outputs": [
    {
     "name": "stdout",
     "output_type": "stream",
     "text": [
      "  batter_name   cp  p_year    war\n",
      "0         강민호   포수    2018  3.383\n",
      "1        스크럭스  1루수    2018  4.344\n",
      "2         박민우  2루수    2018  4.471\n",
      "3          최정  3루수    2018  6.680\n",
      "4         김하성  유격수    2018  5.338\n",
      "5         김재환  좌익수    2018  7.369\n",
      "6         나성범  중견수    2018  6.648\n",
      "7         박건우  우익수    2018  6.805\n"
     ]
    }
   ],
   "source": [
    "df = pd.read_csv('2019_kbo_for_kaggle_v2.csv')\n",
    "df_selected = df[['batter_name', 'cp', 'p_year', 'war']]\n",
    "df_selected = df_selected[(df_selected['p_year'] == 2018)]\n",
    "result = pd.DataFrame()\n",
    "positions = ['포수', '1루수', '2루수', '3루수', '유격수', '좌익수', '중견수', '우익수']\n",
    "for i in range(8):\n",
    "    top_player = df_selected[df_selected['cp'] == positions[i]].nlargest(1, 'war')\n",
    "    result = pd.concat([result, top_player])\n",
    "print(result.reset_index(drop=True))"
   ]
  },
  {
   "cell_type": "code",
   "execution_count": 4,
   "id": "cf5d5d68",
   "metadata": {},
   "outputs": [
    {
     "name": "stdout",
     "output_type": "stream",
     "text": [
      "salary    1.000000\n",
      "RBI       0.547702\n",
      "HR        0.522212\n",
      "H         0.489694\n",
      "R         0.458858\n",
      "war       0.452117\n",
      "SLG       0.331945\n",
      "OBP       0.271342\n",
      "avg       0.263695\n",
      "SB        0.079251\n",
      "Name: salary, dtype: float64\n",
      "가장 salary와 관련이 높은 데이터는 RBI다.\n"
     ]
    }
   ],
   "source": [
    "df = pd.read_csv('2019_kbo_for_kaggle_v2.csv')\n",
    "selected_columns = ['R', 'H', 'HR', 'RBI', 'SB', 'war', 'avg', 'OBP', 'SLG', 'salary']\n",
    "correlation_matrix = df[selected_columns].corr()\n",
    "salary_correlation = correlation_matrix['salary'].sort_values(ascending=False)\n",
    "most_corr = salary_correlation.index[1]\n",
    "print(salary_correlation)\n",
    "print(f\"가장 salary와 관련이 높은 데이터는 {most_corr}다.\")"
   ]
  },
  {
   "cell_type": "code",
   "execution_count": null,
   "id": "62b0ffb0",
   "metadata": {},
   "outputs": [],
   "source": []
  }
 ],
 "metadata": {
  "kernelspec": {
   "display_name": "Python 3 (ipykernel)",
   "language": "python",
   "name": "python3"
  },
  "language_info": {
   "codemirror_mode": {
    "name": "ipython",
    "version": 3
   },
   "file_extension": ".py",
   "mimetype": "text/x-python",
   "name": "python",
   "nbconvert_exporter": "python",
   "pygments_lexer": "ipython3",
   "version": "3.11.5"
  }
 },
 "nbformat": 4,
 "nbformat_minor": 5
}

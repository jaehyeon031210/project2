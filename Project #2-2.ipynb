{
 "cells": [
  {
   "cell_type": "code",
   "execution_count": 15,
   "id": "7e17ad55",
   "metadata": {},
   "outputs": [
    {
     "name": "stdout",
     "output_type": "stream",
     "text": [
      "Decision Tree Test RMSE:  31.16767000990215\n",
      "Random Forest Test RMSE:  23.3533507844449\n",
      "SVM Test RMSE:  32.3804844983029\n"
     ]
    }
   ],
   "source": [
    "from sklearn.preprocessing import StandardScaler\n",
    "from sklearn.tree import DecisionTreeRegressor\n",
    "from sklearn.ensemble import RandomForestRegressor\n",
    "from sklearn.svm import SVR\n",
    "from sklearn.pipeline import Pipeline\n",
    "from sklearn.metrics import mean_squared_error\n",
    "import pandas as pd\n",
    "import numpy as np\n",
    "\n",
    "def sort_dataset(dataset_df):\n",
    "    df_sort = dataset_df.sort_values(by='p_year', ascending=True)\n",
    "    return df_sort\n",
    "\n",
    "def split_dataset(dataset_df):    \n",
    "    labels = dataset_df['salary'] * 0.001\n",
    "    train = dataset_df.iloc[:1718, :]\n",
    "    test = dataset_df.iloc[1718:, :]\n",
    "    Y_train = labels.iloc[:1718]\n",
    "    Y_test = labels.iloc[1718:]\n",
    "    X_train = train.drop('salary', axis=1)\n",
    "    X_test = test.drop('salary', axis=1)\n",
    "    return X_train, X_test, Y_train, Y_test\n",
    "\n",
    "def extract_numerical_cols(dataset_df):\n",
    "    numerical_cols = ['age', 'G', 'PA', 'AB', 'R', 'H', '2B', '3B', 'HR', 'RBI', 'SB', 'CS', 'BB', 'HBP', 'SO', 'GDP', 'fly', 'war']\n",
    "    numerical_df = dataset_df[numerical_cols]\n",
    "    return numerical_df\n",
    "\n",
    "def train_predict_decision_tree(X_train, Y_train, X_test):\n",
    "    model = DecisionTreeRegressor()\n",
    "    model.fit(X_train, Y_train)\n",
    "    dt_predictions = model.predict(X_test)\n",
    "    return dt_predictions\n",
    "\n",
    "def train_predict_random_forest(X_train, Y_train, X_test):\n",
    "    rfmodel = RandomForestRegressor()\n",
    "    rfmodel.fit(X_train, Y_train)\n",
    "    rf_predictions = rfmodel.predict(X_test)\n",
    "    return rf_predictions\n",
    "\n",
    "def train_predict_svm(X_train, Y_train, X_test):\n",
    "    svm_pipeline = Pipeline([\n",
    "        ('scaler', StandardScaler()),\n",
    "        ('svm', SVR())\n",
    "    ])\n",
    "    svm_pipeline.fit(X_train, Y_train)\n",
    "    svm_predictions = svm_pipeline.predict(X_test)\n",
    "    \n",
    "    return svm_predictions\n",
    "\n",
    "def calculate_RMSE(labels, predictions):\n",
    "    rmse = np.sqrt(mean_squared_error(labels, predictions))\n",
    "    return rmse\n",
    "\n",
    "if __name__=='__main__':\n",
    "    # DO NOT MODIFY THIS FUNCTION UNLESS PATH TO THE CSV MUST BE CHANGED.\n",
    "    data_df = pd.read_csv('2019_kbo_for_kaggle_v2.csv')\n",
    "    \n",
    "    sorted_df = sort_dataset(data_df)    \n",
    "    X_train, X_test, Y_train, Y_test = split_dataset(sorted_df)\n",
    "    \n",
    "    X_train = extract_numerical_cols(X_train)\n",
    "    X_test = extract_numerical_cols(X_test)\n",
    "\n",
    "    dt_predictions = train_predict_decision_tree(X_train, Y_train, X_test)\n",
    "    rf_predictions = train_predict_random_forest(X_train, Y_train, X_test)\n",
    "    svm_predictions = train_predict_svm(X_train, Y_train, X_test)\n",
    "    \n",
    "    print(\"Decision Tree Test RMSE: \", calculate_RMSE(Y_test, dt_predictions))    \n",
    "    print(\"Random Forest Test RMSE: \", calculate_RMSE(Y_test, rf_predictions))    \n",
    "    print(\"SVM Test RMSE: \", calculate_RMSE(Y_test, svm_predictions))"
   ]
  },
  {
   "cell_type": "code",
   "execution_count": null,
   "id": "7fbeed4a",
   "metadata": {},
   "outputs": [],
   "source": []
  }
 ],
 "metadata": {
  "kernelspec": {
   "display_name": "Python 3 (ipykernel)",
   "language": "python",
   "name": "python3"
  },
  "language_info": {
   "codemirror_mode": {
    "name": "ipython",
    "version": 3
   },
   "file_extension": ".py",
   "mimetype": "text/x-python",
   "name": "python",
   "nbconvert_exporter": "python",
   "pygments_lexer": "ipython3",
   "version": "3.11.5"
  }
 },
 "nbformat": 4,
 "nbformat_minor": 5
}
